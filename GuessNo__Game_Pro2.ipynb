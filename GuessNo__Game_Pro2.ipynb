{
  "nbformat": 4,
  "nbformat_minor": 0,
  "metadata": {
    "colab": {
      "provenance": []
    },
    "kernelspec": {
      "name": "python3",
      "display_name": "Python 3"
    },
    "language_info": {
      "name": "python"
    }
  },
  "cells": [
    {
      "cell_type": "markdown",
      "source": [],
      "metadata": {
        "id": "IAzeADAD50zc"
      }
    },
    {
      "cell_type": "markdown",
      "source": [
        "# **Project 2 : Guess The Number Game BY Computer.**"
      ],
      "metadata": {
        "id": "t3BdTS0Z522S"
      }
    },
    {
      "cell_type": "code",
      "source": [
        "import random\n",
        "import time\n",
        "import os\n",
        "import sys\n",
        "\n",
        "def clear_screen():\n",
        "    \"\"\"Clear the console screen.\"\"\"\n",
        "    os.system('cls' if os.name == 'nt' else 'clear')\n",
        "\n",
        "def print_colored(text, color):\n",
        "    \"\"\"Print colored text to console.\"\"\"\n",
        "    colors = {\n",
        "        'pink': '\\033[1;35m',\n",
        "        'yellow': '\\033[1;33m',\n",
        "        'cyan': '\\033[1;36m',\n",
        "        'red': '\\033[1;31m',\n",
        "        'green': '\\033[1;32m',\n",
        "        'reset': '\\033[0m'\n",
        "    }\n",
        "    print(f\"{colors.get(color, '')}{text}{colors['reset']}\")\n",
        "\n",
        "def show_celebration():\n",
        "    \"\"\"Display a simple celebration animation.\"\"\"\n",
        "    print(\"\\n🎉 🎈 🎊 🎈 🎉\")\n",
        "    time.sleep(1)\n",
        "    clear_screen()\n",
        "    print(\"\\n🎈 🎊 🎉 🎊 🎈\")\n",
        "    time.sleep(1)\n",
        "    clear_screen()\n",
        "\n",
        "def guess_the_number():\n",
        "    \"\"\"Main game function.\"\"\"\n",
        "    number = random.randint(1, 15)\n",
        "    guesses_left = 3\n",
        "\n",
        "    clear_screen()\n",
        "    print_colored(\"Welcome to the Guess The Number Game!\", \"pink\")\n",
        "    print_colored(\"I'm thinking of a number between 1 and 15.\", \"yellow\")\n",
        "\n",
        "    while guesses_left > 0:\n",
        "        print_colored(f\"\\nYou have {guesses_left} guesses left.\", \"cyan\")\n",
        "        try:\n",
        "            guess = int(input(\"Select a number: \"))\n",
        "        except ValueError:\n",
        "            print_colored(\"Invalid input. Please enter a valid number!\", \"red\")\n",
        "            continue\n",
        "\n",
        "        if guess == number:\n",
        "            print_colored(\"\\nCongratulations! You guessed the number! 🎉\", \"green\")\n",
        "            show_celebration()\n",
        "            break\n",
        "        else:\n",
        "            print_colored(\"Wrong guess. Try again!\", \"red\")\n",
        "            guesses_left -= 1\n",
        "\n",
        "    if guesses_left == 0:\n",
        "        print_colored(f\"\\nYou lost! The number was {number}. Better luck next time! 😢\", \"red\")\n",
        "\n",
        "if __name__ == \"__main__\":\n",
        "    guess_the_number()\n",
        "\n",
        "\n",
        "\n",
        "\n",
        ""
      ],
      "metadata": {
        "colab": {
          "base_uri": "https://localhost:8080/"
        },
        "id": "__vY-uv76-7y",
        "outputId": "e5943f85-1322-45eb-8d51-1552d1c2894f"
      },
      "execution_count": 1,
      "outputs": [
        {
          "output_type": "stream",
          "name": "stdout",
          "text": [
            "\u001b[1;35mWelcome to the Guess The Number Game!\u001b[0m\n",
            "\u001b[1;33mI'm thinking of a number between 1 and 15.\u001b[0m\n",
            "\u001b[1;36m\n",
            "You have 3 guesses left.\u001b[0m\n",
            "Select a number: 1\n",
            "\u001b[1;31mWrong guess. Try again!\u001b[0m\n",
            "\u001b[1;36m\n",
            "You have 2 guesses left.\u001b[0m\n",
            "Select a number: 9\n",
            "\u001b[1;31mWrong guess. Try again!\u001b[0m\n",
            "\u001b[1;36m\n",
            "You have 1 guesses left.\u001b[0m\n",
            "Select a number: 10\n",
            "\u001b[1;32m\n",
            "Congratulations! You guessed the number! 🎉\u001b[0m\n",
            "\n",
            "🎉 🎈 🎊 🎈 🎉\n",
            "\n",
            "🎈 🎊 🎉 🎊 🎈\n"
          ]
        }
      ]
    }
  ]
}